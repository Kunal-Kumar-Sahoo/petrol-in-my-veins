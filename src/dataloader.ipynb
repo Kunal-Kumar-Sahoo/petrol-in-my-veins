{
 "cells": [
  {
   "cell_type": "code",
   "execution_count": 3,
   "metadata": {},
   "outputs": [
    {
     "data": {
      "text/plain": [
       "'/home/kunalkumarsahoo/Playground/Hack4India/src'"
      ]
     },
     "execution_count": 3,
     "metadata": {},
     "output_type": "execute_result"
    }
   ],
   "source": [
    "%pwd"
   ]
  },
  {
   "cell_type": "code",
   "execution_count": 1,
   "metadata": {},
   "outputs": [],
   "source": [
    "import os\n",
    "import pandas as pd\n",
    "import matplotlib.pyplot as plt"
   ]
  },
  {
   "cell_type": "code",
   "execution_count": 6,
   "metadata": {},
   "outputs": [
    {
     "data": {
      "text/plain": [
       "{'7': ['WELL-00001_20170226220309.csv', 'DRAWN_00001.csv'],\n",
       " '2': ['SIMULATED_00001.csv'],\n",
       " '0': ['WELL-00001_20170521050000.csv',\n",
       "  'WELL-00001_20170825120000.csv',\n",
       "  'WELL-00001_20170526100000.csv',\n",
       "  'WELL-00001_20170823050000.csv',\n",
       "  'WELL-00001_20170527060000.csv',\n",
       "  'WELL-00001_20170524030000.csv',\n",
       "  'WELL-00001_20170527110000.csv',\n",
       "  'WELL-00001_20170528020000.csv',\n",
       "  'WELL-00001_20170202030343.csv',\n",
       "  'WELL-00001_20170627010333.csv',\n",
       "  'WELL-00001_20170424180042.csv',\n",
       "  'WELL-00001_20170828000000.csv',\n",
       "  'WELL-00001_20170218160135.csv',\n",
       "  'WELL-00001_20170524130000.csv',\n",
       "  'WELL-00001_20170526050000.csv',\n",
       "  'WELL-00001_20170527210000.csv',\n",
       "  'WELL-00001_20170527160000.csv',\n",
       "  'WELL-00001_20170827190000.csv',\n",
       "  'WELL-00001_20170524080000.csv',\n",
       "  'WELL-00001_20170527010000.csv',\n",
       "  'WELL-00001_20170826080000.csv',\n",
       "  'WELL-00001_20170528220000.csv',\n",
       "  'WELL-00001_20170524230000.csv',\n",
       "  'WELL-00001_20170521000000.csv',\n",
       "  'WELL-00001_20170523020012.csv',\n",
       "  'WELL-00001_20170825070000.csv',\n",
       "  'WELL-00001_20170525190000.csv',\n",
       "  'WELL-00001_20170526200000.csv',\n",
       "  'WELL-00001_20170828100000.csv',\n",
       "  'WELL-00001_20170201070114.csv',\n",
       "  'WELL-00001_20170219070031.csv',\n",
       "  'WELL-00001_20170219020042.csv',\n",
       "  'WELL-00001_20170526000000.csv',\n",
       "  'WELL-00001_20170825170000.csv',\n",
       "  'WELL-00001_20170425090343.csv',\n",
       "  'WELL-00001_20170424230156.csv',\n",
       "  'WELL-00001_20170201020207.csv',\n",
       "  'WELL-00001_20170626100246.csv',\n",
       "  'WELL-00001_20170523220000.csv',\n",
       "  'WELL-00001_20170826230000.csv',\n",
       "  'WELL-00001_20170421100251.csv',\n",
       "  'WELL-00001_20170520190000.csv',\n",
       "  'WELL-00001_20170626150123.csv',\n",
       "  'WELL-00001_20170219120021.csv',\n",
       "  'WELL-00001_20170219170053.csv',\n",
       "  'WELL-00001_20170525140000.csv',\n",
       "  'WELL-00001_20170425040207.csv',\n",
       "  'WELL-00001_20170201220228.csv',\n",
       "  'WELL-00001_20170528120000.csv',\n",
       "  'WELL-00001_20170522160000.csv',\n",
       "  'WELL-00001_20170522010000.csv',\n",
       "  'WELL-00001_20170823200000.csv',\n",
       "  'WELL-00001_20170522110000.csv',\n",
       "  'WELL-00001_20170528070000.csv',\n",
       "  'WELL-00001_20170524180000.csv',\n",
       "  'WELL-00001_20170525090000.csv',\n",
       "  'WELL-00001_20170626200135.csv',\n",
       "  'WELL-00001_20170218010146.csv',\n",
       "  'WELL-00001_20170824210000.csv',\n",
       "  'WELL-00001_20170521200000.csv',\n",
       "  'WELL-00001_20170828050000.csv',\n",
       "  'WELL-00001_20170521150000.csv',\n",
       "  'WELL-00001_20170523070000.csv',\n",
       "  'WELL-00001_20170523120000.csv',\n",
       "  'WELL-00001_20170823150000.csv',\n",
       "  'WELL-00001_20170523170000.csv',\n",
       "  'WELL-00001_20170825220000.csv',\n",
       "  'WELL-00001_20170218060218.csv',\n",
       "  'WELL-00001_20170827090000.csv',\n",
       "  'WELL-00001_20170827140000.csv',\n",
       "  'WELL-00001_20170201120124.csv',\n",
       "  'WELL-00001_20170521100000.csv',\n",
       "  'WELL-00001_20170526150000.csv',\n",
       "  'WELL-00001_20170826180000.csv',\n",
       "  'WELL-00001_20170201170311.csv',\n",
       "  'WELL-00001_20170826130000.csv',\n",
       "  'WELL-00001_20170522210000.csv',\n",
       "  'WELL-00001_20170425140042.csv',\n",
       "  'WELL-00001_20170219220332.csv',\n",
       "  'WELL-00001_20170824060000.csv',\n",
       "  'WELL-00001_20170824110000.csv',\n",
       "  'WELL-00001_20170422040000.csv',\n",
       "  'WELL-00001_20170525040000.csv',\n",
       "  'WELL-00001_20170528170000.csv',\n",
       "  'WELL-00001_20170218210311.csv',\n",
       "  'WELL-00001_20170218110218.csv',\n",
       "  'WELL-00001_20170825020000.csv',\n",
       "  'WELL-00001_20170826030000.csv',\n",
       "  'WELL-00001_20170202080239.csv',\n",
       "  'WELL-00001_20170824160000.csv',\n",
       "  'WELL-00001_20170522060000.csv',\n",
       "  'WELL-00001_20170827040000.csv',\n",
       "  'WELL-00001_20170823100000.csv',\n",
       "  'WELL-00001_20170824010000.csv'],\n",
       " '4': ['WELL-00001_20170316160005.csv',\n",
       "  'WELL-00001_20170626080000.csv',\n",
       "  'WELL-00001_20170422020000.csv',\n",
       "  'WELL-00001_20170317200000.csv',\n",
       "  'WELL-00001_20170317080000.csv',\n",
       "  'WELL-00001_20170421220000.csv',\n",
       "  'WELL-00001_20170317160000.csv',\n",
       "  'WELL-00001_20170316140000.csv',\n",
       "  'WELL-00001_20170318040000.csv',\n",
       "  'WELL-00001_20170422000000.csv',\n",
       "  'WELL-00001_20170317020000.csv',\n",
       "  'WELL-00001_20170317120000.csv',\n",
       "  'WELL-00001_20170316180000.csv',\n",
       "  'WELL-00001_20170317000000.csv',\n",
       "  'WELL-00001_20170320190146.csv',\n",
       "  'WELL-00001_20170316200000.csv',\n",
       "  'WELL-00001_20170317060000.csv',\n",
       "  'WELL-00001_20170317040000.csv',\n",
       "  'WELL-00001_20170421180000.csv',\n",
       "  'WELL-00001_20170626060000.csv',\n",
       "  'WELL-00001_20170318120000.csv',\n",
       "  'WELL-00001_20170319180033.csv',\n",
       "  'WELL-00001_20170316120203.csv',\n",
       "  'WELL-00001_20170421200000.csv',\n",
       "  'WELL-00001_20170317100000.csv',\n",
       "  'WELL-00001_20170318100000.csv',\n",
       "  'WELL-00001_20170317180000.csv',\n",
       "  'WELL-00001_20170318140000.csv',\n",
       "  'WELL-00001_20170318060025.csv',\n",
       "  'WELL-00001_20170421160000.csv',\n",
       "  'WELL-00001_20170317140005.csv',\n",
       "  'WELL-00001_20170317220000.csv',\n",
       "  'WELL-00001_20170318000020.csv',\n",
       "  'WELL-00001_20170316220000.csv',\n",
       "  'WELL-00001_20170318080000.csv',\n",
       "  'WELL-00001_20170318020000.csv'],\n",
       " '5': ['SIMULATED_00001.csv'],\n",
       " '3': ['SIMULATED_00001.csv', 'WELL-00001_20170320130025.csv'],\n",
       " '8': ['SIMULATED_00001.csv'],\n",
       " '1': ['SIMULATED_00001.csv',\n",
       "  'WELL-00001_20140124213136.csv',\n",
       "  'DRAWN_00001.csv'],\n",
       " '6': ['SIMULATED_00001.csv']}"
      ]
     },
     "execution_count": 6,
     "metadata": {},
     "output_type": "execute_result"
    }
   ],
   "source": [
    "DATASET = '../data'\n",
    "\n",
    "labels = os.listdir(DATASET)\n",
    "\n",
    "data = {label: [] for label in labels}\n",
    "\n",
    "for label in data:\n",
    "    data[label].extend(os.listdir(os.path.join(DATASET, label)))\n",
    "\n",
    "data"
   ]
  },
  {
   "cell_type": "code",
   "execution_count": 9,
   "metadata": {},
   "outputs": [
    {
     "name": "stdout",
     "output_type": "stream",
     "text": [
      "(2752354, 9)\n",
      "class\n",
      "0.0      1763092\n",
      "107.0     342259\n",
      "4.0       261457\n",
      "101.0     172716\n",
      "3.0        69975\n",
      "1.0        37385\n",
      "5.0        21999\n",
      "2.0        21599\n",
      "6.0        17999\n",
      "8.0        15999\n",
      "108.0       9200\n",
      "106.0       7200\n",
      "105.0       6800\n",
      "102.0       3600\n",
      "7.0          821\n",
      "Name: count, dtype: int64\n"
     ]
    }
   ],
   "source": [
    "df_list = [0] * len(data)\n",
    "\n",
    "for label, files in data.items():\n",
    "    temp_df = []\n",
    "    for file in files:\n",
    "        df = pd.read_csv(os.path.join(DATASET, label, file), index_col='timestamp')\n",
    "        temp_df.append(df)\n",
    "    df_list[int(label)] = pd.concat(temp_df)\n",
    "\n",
    "df = pd.concat(df_list)\n",
    "\n",
    "print(df.shape)\n",
    "print(df['class'].value_counts())"
   ]
  },
  {
   "cell_type": "code",
   "execution_count": 10,
   "metadata": {},
   "outputs": [
    {
     "name": "stdout",
     "output_type": "stream",
     "text": [
      "Final cleaned dataset written\n"
     ]
    }
   ],
   "source": [
    "df.to_csv('../data/final-time-series.csv')\n",
    "print('Final cleaned dataset written')"
   ]
  },
  {
   "cell_type": "code",
   "execution_count": null,
   "metadata": {},
   "outputs": [],
   "source": []
  }
 ],
 "metadata": {
  "kernelspec": {
   "display_name": "hack4india",
   "language": "python",
   "name": "python3"
  },
  "language_info": {
   "codemirror_mode": {
    "name": "ipython",
    "version": 3
   },
   "file_extension": ".py",
   "mimetype": "text/x-python",
   "name": "python",
   "nbconvert_exporter": "python",
   "pygments_lexer": "ipython3",
   "version": "3.8.17"
  }
 },
 "nbformat": 4,
 "nbformat_minor": 2
}
